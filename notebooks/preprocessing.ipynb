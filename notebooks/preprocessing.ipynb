{
 "cells": [
  {
   "cell_type": "code",
   "execution_count": null,
   "metadata": {},
   "outputs": [],
   "source": [
    "# preprocessing.ipynb\n",
    "import pandas as pd\n",
    "from sklearn.preprocessing import StandardScaler\n",
    "\n",
    "# Carregar os dados brutos\n",
    "data_path = '../data/raw/data.csv'\n",
    "data = pd.read_csv(data_path)\n",
    "\n",
    "# Exemplo de pré-processamento\n",
    "data = data.dropna()  # Remover valores ausentes\n",
    "data = pd.get_dummies(data)  # Codificação de variáveis categóricas\n",
    "\n",
    "# Escalar os dados\n",
    "scaler = StandardScaler()\n",
    "scaled_data = scaler.fit_transform(data)\n",
    "\n",
    "# Salvar os dados processados\n",
    "processed_data_path = '../data/processed/processed_data.csv'\n",
    "pd.DataFrame(scaled_data, columns=data.columns).to_csv(processed_data_path, index=False)\n"
   ]
  }
 ],
 "metadata": {
  "kernelspec": {
   "display_name": "Python 3",
   "language": "python",
   "name": "python3"
  },
  "language_info": {
   "codemirror_mode": {
    "name": "ipython",
    "version": 3
   },
   "file_extension": ".py",
   "mimetype": "text/x-python",
   "name": "python",
   "nbconvert_exporter": "python",
   "pygments_lexer": "ipython3",
   "version": "3.12.3"
  }
 },
 "nbformat": 4,
 "nbformat_minor": 2
}
