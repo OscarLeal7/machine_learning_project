{
 "cells": [
  {
   "cell_type": "code",
   "execution_count": 1,
   "metadata": {},
   "outputs": [
    {
     "ename": "ModuleNotFoundError",
     "evalue": "No module named 'pandas'",
     "output_type": "error",
     "traceback": [
      "\u001b[1;31m---------------------------------------------------------------------------\u001b[0m",
      "\u001b[1;31mModuleNotFoundError\u001b[0m                       Traceback (most recent call last)",
      "Cell \u001b[1;32mIn[1], line 2\u001b[0m\n\u001b[0;32m      1\u001b[0m \u001b[38;5;66;03m# experiments.ipynb\u001b[39;00m\n\u001b[1;32m----> 2\u001b[0m \u001b[38;5;28;01mimport\u001b[39;00m \u001b[38;5;21;01mpandas\u001b[39;00m \u001b[38;5;28;01mas\u001b[39;00m \u001b[38;5;21;01mpd\u001b[39;00m\n\u001b[0;32m      3\u001b[0m \u001b[38;5;28;01mfrom\u001b[39;00m \u001b[38;5;21;01msklearn\u001b[39;00m\u001b[38;5;21;01m.\u001b[39;00m\u001b[38;5;21;01mmodel_selection\u001b[39;00m \u001b[38;5;28;01mimport\u001b[39;00m train_test_split\n\u001b[0;32m      4\u001b[0m \u001b[38;5;28;01mfrom\u001b[39;00m \u001b[38;5;21;01msklearn\u001b[39;00m\u001b[38;5;21;01m.\u001b[39;00m\u001b[38;5;21;01mpreprocessing\u001b[39;00m \u001b[38;5;28;01mimport\u001b[39;00m StandardScaler\n",
      "\u001b[1;31mModuleNotFoundError\u001b[0m: No module named 'pandas'"
     ]
    }
   ],
   "source": [
    "# experiments.ipynb\n",
    "import pandas as pd\n",
    "from sklearn.model_selection import train_test_split\n",
    "from sklearn.preprocessing import StandardScaler\n",
    "import tensorflow as tf\n",
    "from tensorflow import keras\n",
    "\n",
    "# Carregar os dados processados\n",
    "data_path = '../data/processed/processed_data.csv'\n",
    "data = pd.read_csv(data_path)\n",
    "\n",
    "# Separar recursos e alvo\n",
    "X = data.drop('target', axis=1)  # Certifique-se de que 'target' é o nome da coluna do alvo\n",
    "y = data['target']\n",
    "\n",
    "# Dividir os dados\n",
    "X_train, X_test, y_train, y_test = train_test_split(X, y, test_size=0.2, random_state=42)\n",
    "\n",
    "# Escalar os dados\n",
    "scaler = StandardScaler()\n",
    "X_train_scaled = scaler.fit_transform(X_train)\n",
    "X_test_scaled = scaler.transform(X_test)\n",
    "\n",
    "# Experimentar com diferentes arquiteturas de modelo\n",
    "def create_model(layers, units):\n",
    "    model = keras.Sequential()\n",
    "    model.add(keras.layers.Dense(units, activation='relu', input_shape=(X_train_scaled.shape[1],)))\n",
    "    for _ in range(layers - 1):\n",
    "        model.add(keras.layers.Dense(units, activation='relu'))\n",
    "    model.add(keras.layers.Dense(1))\n",
    "    model.compile(optimizer='adam', loss='mean_squared_error')\n",
    "    return model\n",
    "\n",
    "# Treinar e avaliar diferentes modelos\n",
    "layers = [2, 3, 4]\n",
    "units = [32, 64, 128]\n",
    "\n",
    "results = {}\n",
    "for layer in layers:\n",
    "    for unit in units:\n",
    "        model = create_model(layer, unit)\n",
    "        history = model.fit(X_train_scaled, y_train, epochs=100, validation_split=0.2, verbose=0)\n",
    "        mse = model.evaluate(X_test_scaled, y_test, verbose=0)\n",
    "        results[(layer, unit)] = mse\n",
    "        print(f'Layers: {layer}, Units: {unit}, MSE: {mse}')\n",
    "\n",
    "# Analisar os resultados\n",
    "best_config = min(results, key=results.get)\n",
    "print(f'Melhor configuração - Layers: {best_config[0]}, Units: {best_config[1]}, MSE: {results[best_config]}')\n"
   ]
  }
 ],
 "metadata": {
  "kernelspec": {
   "display_name": "Python 3",
   "language": "python",
   "name": "python3"
  },
  "language_info": {
   "codemirror_mode": {
    "name": "ipython",
    "version": 3
   },
   "file_extension": ".py",
   "mimetype": "text/x-python",
   "name": "python",
   "nbconvert_exporter": "python",
   "pygments_lexer": "ipython3",
   "version": "3.12.3"
  }
 },
 "nbformat": 4,
 "nbformat_minor": 2
}
