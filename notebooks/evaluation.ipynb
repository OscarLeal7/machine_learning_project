{
 "cells": [
  {
   "cell_type": "code",
   "execution_count": null,
   "metadata": {},
   "outputs": [],
   "source": [
    "# evaluation.ipynb\n",
    "import pandas as pd\n",
    "import matplotlib.pyplot as plt\n",
    "from sklearn.metrics import mean_squared_error\n",
    "import tensorflow as tf\n",
    "from tensorflow import keras\n",
    "\n",
    "# Carregar os dados processados e o modelo treinado\n",
    "data_path = '../data/processed/processed_data.csv'\n",
    "data = pd.read_csv(data_path)\n",
    "\n",
    "# Separar recursos e alvo\n",
    "X = data.drop('target', axis=1)  # Certifique-se de que 'target' é o nome da coluna do alvo\n",
    "y = data['target']\n",
    "\n",
    "# Dividir os dados\n",
    "_, X_test, _, y_test = train_test_split(X, y, test_size=0.2, random_state=42)\n",
    "\n",
    "# Escalar os dados\n",
    "scaler = StandardScaler()\n",
    "X_test_scaled = scaler.fit_transform(X_test)\n",
    "\n",
    "# Carregar o modelo treinado\n",
    "model = keras.models.load_model('../models/trained_model.h5')\n",
    "\n",
    "# Fazer previsões\n",
    "y_pred = model.predict(X_test_scaled)\n",
    "\n",
    "# Avaliar o modelo\n",
    "mse = mean_squared_error(y_test, y_pred)\n",
    "print(f'Mean Squared Error: {mse}')\n",
    "\n",
    "# Plotar valores reais vs. valores previstos\n",
    "plt.scatter(y_test, y_pred)\n",
    "plt.xlabel('Valores Reais')\n",
    "plt.ylabel('Valores Previstos')\n",
    "plt.title('Valores Reais vs. Valores Previstos')\n",
    "plt.show()\n"
   ]
  }
 ],
 "metadata": {
  "kernelspec": {
   "display_name": "env",
   "language": "python",
   "name": "python3"
  },
  "language_info": {
   "name": "python",
   "version": "3.12.3"
  }
 },
 "nbformat": 4,
 "nbformat_minor": 2
}
